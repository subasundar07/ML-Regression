{
 "cells": [
  {
   "cell_type": "code",
   "execution_count": null,
   "id": "d9235253-9368-4125-852f-d78574a1488d",
   "metadata": {},
   "outputs": [],
   "source": [
    "import numpy as np\n",
    "import matplotlib.pyplot as pd\n",
    "import pandas as pd"
   ]
  },
  {
   "cell_type": "code",
   "execution_count": null,
   "id": "1beb1f64-38b1-4633-b30c-4ccf51658bae",
   "metadata": {},
   "outputs": [],
   "source": [
    "detaset=pd.read_csv('insurance_pre.csv')\n",
    "detaset"
   ]
  },
  {
   "cell_type": "code",
   "execution_count": null,
   "id": "262d21e2-a49b-4944-855b-35d1a2b3d818",
   "metadata": {},
   "outputs": [],
   "source": [
    "detaset=pd.get_dummies(detaset, dtype=int, drop_first=True)\n",
    "detaset"
   ]
  },
  {
   "cell_type": "code",
   "execution_count": null,
   "id": "8ab0d3ca-62c7-4eae-93d7-d28334fe9e70",
   "metadata": {},
   "outputs": [],
   "source": [
    "detaset.columns"
   ]
  },
  {
   "cell_type": "code",
   "execution_count": null,
   "id": "a876c6d3-2de8-454b-b0aa-a4920f12860d",
   "metadata": {},
   "outputs": [],
   "source": [
    "independent=detaset[['age', 'bmi', 'children','sex_male', 'smoker_yes']]\n",
    "\n"
   ]
  },
  {
   "cell_type": "code",
   "execution_count": null,
   "id": "610675ec-95fd-443c-a2ed-0967b901504d",
   "metadata": {},
   "outputs": [],
   "source": [
    "independent"
   ]
  },
  {
   "cell_type": "code",
   "execution_count": null,
   "id": "c7f4ad68-8c0b-441b-8152-cc4dd28e4c8d",
   "metadata": {},
   "outputs": [],
   "source": [
    "dependent=detaset[['charges']]\n"
   ]
  },
  {
   "cell_type": "code",
   "execution_count": null,
   "id": "18b01683-1407-4c5a-9ae2-37f0a5ed8c6d",
   "metadata": {},
   "outputs": [],
   "source": [
    "dependent"
   ]
  },
  {
   "cell_type": "code",
   "execution_count": null,
   "id": "7cdebcb6-8ea2-41e8-826f-65fb3c632436",
   "metadata": {},
   "outputs": [],
   "source": [
    "#split train and test deta\n",
    "from sklearn.model_selection import train_test_split\n",
    "X_train, X_test ,Y_train, Y_test= train_test_split(independent, dependent,test_size=1/3, random_state=0)\n"
   ]
  },
  {
   "cell_type": "code",
   "execution_count": null,
   "id": "532e579e-ed54-4a6f-895b-b4084628f8f9",
   "metadata": {},
   "outputs": [],
   "source": [
    "#preprocessing\n",
    "from sklearn.preprocessing import StandardScaler  \n",
    "sc=StandardScaler()\n",
    "X_train=sc.fit_transform(X_train)\n",
    "X_test=sc.transform(X_test)\n",
    "\n"
   ]
  },
  {
   "cell_type": "code",
   "execution_count": null,
   "id": "a0254e41-1d71-448b-9403-190674edcc4a",
   "metadata": {},
   "outputs": [],
   "source": [
    "from sklearn.ensemble import RandomForestRegressor"
   ]
  },
  {
   "cell_type": "code",
   "execution_count": null,
   "id": "3f259727-9c95-4b8d-8ba9-4b864480d073",
   "metadata": {},
   "outputs": [],
   "source": [
    "#model creation\n",
    "\n",
    "\n",
    "\n",
    "\n",
    "from sklearn.model_selection import GridSearchCV\n",
    "\n",
    "param_grid = {'criterion':['mse','mae'],\n",
    "'max_features': ['auto','sqrt','log2'],\n",
    "'n_estimators':[10,100]}\n",
    "\n",
    "\n",
    "\n"
   ]
  },
  {
   "cell_type": "code",
   "execution_count": null,
   "id": "6bcbb336-dbe8-42cc-af3c-0d852893ebca",
   "metadata": {},
   "outputs": [],
   "source": [
    "\n",
    "grid = GridSearchCV(RandomForestRegressor(), param_grid, refit = True, verbose = 3,n_jobs=-1)\n"
   ]
  },
  {
   "cell_type": "code",
   "execution_count": null,
   "id": "7e7e7db3-0b69-4329-8ca1-809de5d8795c",
   "metadata": {},
   "outputs": [],
   "source": [
    "# fitting the model for grid search\n",
    "grid.fit(X_train, Y_train)"
   ]
  },
  {
   "cell_type": "code",
   "execution_count": null,
   "id": "245d9b62-3fb4-4296-9ff0-82c02419ba65",
   "metadata": {},
   "outputs": [],
   "source": [
    "#choosing best model\n",
    "#re=grid.cv_results_\n",
    "#print=(\"best_model{}\".format(grid.best_params_))\n",
    "\n",
    "re=grid.cv_results_\n",
    "print(\"The R_score value for best parameter {}:\".format(grid.best_params_))"
   ]
  },
  {
   "cell_type": "code",
   "execution_count": null,
   "id": "192902d3-e19e-42de-8eb6-04aeb1f74d7c",
   "metadata": {},
   "outputs": [],
   "source": [
    "table=pd.DataFrame.from_dict(re)\n",
    "table\n"
   ]
  },
  {
   "cell_type": "code",
   "execution_count": null,
   "id": "070b905e-3560-462f-8af6-6d7f931cfe68",
   "metadata": {},
   "outputs": [],
   "source": []
  },
  {
   "cell_type": "code",
   "execution_count": null,
   "id": "830e4644-2bd2-4d36-bca4-3e5ca86e1f3f",
   "metadata": {},
   "outputs": [],
   "source": [
    "age_input=float(input(\"Age:\"))\n",
    "bmi_input=float(input(\"BMI:\"))\n",
    "children_input=float(input(\"Children:\"))\n",
    "sex_male_input=int(input(\"Sex Male 0 or 1:\"))\n",
    "smoker_yes_input=int(input(\"Smoker Yes 0 or 1:\"))"
   ]
  },
  {
   "cell_type": "code",
   "execution_count": null,
   "id": "415fc9a3-3280-4303-adc3-293419d25e89",
   "metadata": {},
   "outputs": [],
   "source": [
    "Future_predict=grid.predict([[age_input,bmi_input,children_input,sex_male_input,smoker_yes_input]])\n",
    "print(\"Future Prediction{}\".format(Future_predict))"
   ]
  },
  {
   "cell_type": "code",
   "execution_count": null,
   "id": "e7f59566-5e28-4ff7-868b-d431fa1caa9a",
   "metadata": {},
   "outputs": [],
   "source": []
  }
 ],
 "metadata": {
  "kernelspec": {
   "display_name": "Python 3 (ipykernel)",
   "language": "python",
   "name": "python3"
  },
  "language_info": {
   "codemirror_mode": {
    "name": "ipython",
    "version": 3
   },
   "file_extension": ".py",
   "mimetype": "text/x-python",
   "name": "python",
   "nbconvert_exporter": "python",
   "pygments_lexer": "ipython3",
   "version": "3.7.1"
  }
 },
 "nbformat": 4,
 "nbformat_minor": 5
}
